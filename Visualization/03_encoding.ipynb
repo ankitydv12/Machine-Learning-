{
 "cells": [
  {
   "cell_type": "code",
   "execution_count": 1,
   "id": "ef8d0649",
   "metadata": {},
   "outputs": [
    {
     "name": "stdout",
     "output_type": "stream",
     "text": [
      "--2025-04-27 15:59:52--  https://raw.githubusercontent.com/MicrosoftDocs/mslearn-introduction-to-machine-learning/main/m0c_logistic_regression.py\n",
      "Resolving raw.githubusercontent.com (raw.githubusercontent.com)... 2606:50c0:8003::154, 2606:50c0:8000::154, 2606:50c0:8001::154, ...\n",
      "Connecting to raw.githubusercontent.com (raw.githubusercontent.com)|2606:50c0:8003::154|:443... connected.\n",
      "HTTP request sent, awaiting response... 200 OK\n",
      "Length: 827 [text/plain]\n",
      "Saving to: ‘m0c_logistic_regression.py’\n",
      "\n",
      "m0c_logistic_regres 100%[===================>]     827  --.-KB/s    in 0s      \n",
      "\n",
      "2025-04-27 15:59:52 (24.5 MB/s) - ‘m0c_logistic_regression.py’ saved [827/827]\n",
      "\n"
     ]
    }
   ],
   "source": [
    "import pandas as pd\n",
    "!wget https://raw.githubusercontent.com/MicrosoftDocs/mslearn-introduction-to-machine-learning/main/m0c_logistic_regression.py\n"
   ]
  },
  {
   "cell_type": "code",
   "execution_count": 9,
   "id": "6e1e6c39",
   "metadata": {},
   "outputs": [
    {
     "data": {
      "text/html": [
       "<div>\n",
       "<style scoped>\n",
       "    .dataframe tbody tr th:only-of-type {\n",
       "        vertical-align: middle;\n",
       "    }\n",
       "\n",
       "    .dataframe tbody tr th {\n",
       "        vertical-align: top;\n",
       "    }\n",
       "\n",
       "    .dataframe thead th {\n",
       "        text-align: right;\n",
       "    }\n",
       "</style>\n",
       "<table border=\"1\" class=\"dataframe\">\n",
       "  <thead>\n",
       "    <tr style=\"text-align: right;\">\n",
       "      <th></th>\n",
       "      <th>PassengerId</th>\n",
       "      <th>Survived</th>\n",
       "      <th>Pclass</th>\n",
       "      <th>Name</th>\n",
       "      <th>Sex</th>\n",
       "      <th>Age</th>\n",
       "      <th>SibSp</th>\n",
       "      <th>Parch</th>\n",
       "      <th>Ticket</th>\n",
       "      <th>Fare</th>\n",
       "      <th>Cabin</th>\n",
       "      <th>Embarked</th>\n",
       "    </tr>\n",
       "  </thead>\n",
       "  <tbody>\n",
       "    <tr>\n",
       "      <th>0</th>\n",
       "      <td>1</td>\n",
       "      <td>0</td>\n",
       "      <td>3</td>\n",
       "      <td>Braund, Mr. Owen Harris</td>\n",
       "      <td>male</td>\n",
       "      <td>22.0</td>\n",
       "      <td>1</td>\n",
       "      <td>0</td>\n",
       "      <td>A/5 21171</td>\n",
       "      <td>7.2500</td>\n",
       "      <td>NaN</td>\n",
       "      <td>S</td>\n",
       "    </tr>\n",
       "    <tr>\n",
       "      <th>1</th>\n",
       "      <td>2</td>\n",
       "      <td>1</td>\n",
       "      <td>1</td>\n",
       "      <td>Cumings, Mrs. John Bradley (Florence Briggs Th...</td>\n",
       "      <td>female</td>\n",
       "      <td>38.0</td>\n",
       "      <td>1</td>\n",
       "      <td>0</td>\n",
       "      <td>PC 17599</td>\n",
       "      <td>71.2833</td>\n",
       "      <td>C85</td>\n",
       "      <td>C</td>\n",
       "    </tr>\n",
       "    <tr>\n",
       "      <th>2</th>\n",
       "      <td>3</td>\n",
       "      <td>1</td>\n",
       "      <td>3</td>\n",
       "      <td>Heikkinen, Miss. Laina</td>\n",
       "      <td>female</td>\n",
       "      <td>26.0</td>\n",
       "      <td>0</td>\n",
       "      <td>0</td>\n",
       "      <td>STON/O2. 3101282</td>\n",
       "      <td>7.9250</td>\n",
       "      <td>NaN</td>\n",
       "      <td>S</td>\n",
       "    </tr>\n",
       "    <tr>\n",
       "      <th>3</th>\n",
       "      <td>4</td>\n",
       "      <td>1</td>\n",
       "      <td>1</td>\n",
       "      <td>Futrelle, Mrs. Jacques Heath (Lily May Peel)</td>\n",
       "      <td>female</td>\n",
       "      <td>35.0</td>\n",
       "      <td>1</td>\n",
       "      <td>0</td>\n",
       "      <td>113803</td>\n",
       "      <td>53.1000</td>\n",
       "      <td>C123</td>\n",
       "      <td>S</td>\n",
       "    </tr>\n",
       "    <tr>\n",
       "      <th>4</th>\n",
       "      <td>5</td>\n",
       "      <td>0</td>\n",
       "      <td>3</td>\n",
       "      <td>Allen, Mr. William Henry</td>\n",
       "      <td>male</td>\n",
       "      <td>35.0</td>\n",
       "      <td>0</td>\n",
       "      <td>0</td>\n",
       "      <td>373450</td>\n",
       "      <td>8.0500</td>\n",
       "      <td>NaN</td>\n",
       "      <td>S</td>\n",
       "    </tr>\n",
       "  </tbody>\n",
       "</table>\n",
       "</div>"
      ],
      "text/plain": [
       "   PassengerId  Survived  Pclass  \\\n",
       "0            1         0       3   \n",
       "1            2         1       1   \n",
       "2            3         1       3   \n",
       "3            4         1       1   \n",
       "4            5         0       3   \n",
       "\n",
       "                                                Name     Sex   Age  SibSp  \\\n",
       "0                            Braund, Mr. Owen Harris    male  22.0      1   \n",
       "1  Cumings, Mrs. John Bradley (Florence Briggs Th...  female  38.0      1   \n",
       "2                             Heikkinen, Miss. Laina  female  26.0      0   \n",
       "3       Futrelle, Mrs. Jacques Heath (Lily May Peel)  female  35.0      1   \n",
       "4                           Allen, Mr. William Henry    male  35.0      0   \n",
       "\n",
       "   Parch            Ticket     Fare Cabin Embarked  \n",
       "0      0         A/5 21171   7.2500   NaN        S  \n",
       "1      0          PC 17599  71.2833   C85        C  \n",
       "2      0  STON/O2. 3101282   7.9250   NaN        S  \n",
       "3      0            113803  53.1000  C123        S  \n",
       "4      0            373450   8.0500   NaN        S  "
      ]
     },
     "execution_count": 9,
     "metadata": {},
     "output_type": "execute_result"
    }
   ],
   "source": [
    "dataset = pd.read_csv('titanic.csv',index_col=False , sep=',',header=0)\n",
    "dataset.head()\n"
   ]
  },
  {
   "cell_type": "code",
   "execution_count": 10,
   "id": "4b949626",
   "metadata": {},
   "outputs": [
    {
     "name": "stdout",
     "output_type": "stream",
     "text": [
      "PassengerId      0\n",
      "Survived         0\n",
      "Pclass           0\n",
      "Name             0\n",
      "Sex              0\n",
      "Age            177\n",
      "SibSp            0\n",
      "Parch            0\n",
      "Ticket           0\n",
      "Fare             0\n",
      "Cabin          687\n",
      "Embarked         2\n",
      "dtype: int64\n",
      "The shape and the size of the dataset is: (891, 12)\n"
     ]
    }
   ],
   "source": [
    "print(dataset.isnull().sum())\n",
    "print(f\"The shape and the size of the dataset is: {dataset.shape}\")"
   ]
  },
  {
   "cell_type": "code",
   "execution_count": 11,
   "id": "e0389db9",
   "metadata": {},
   "outputs": [
    {
     "name": "stderr",
     "output_type": "stream",
     "text": [
      "/tmp/ipykernel_9539/68865008.py:1: FutureWarning: A value is trying to be set on a copy of a DataFrame or Series through chained assignment using an inplace method.\n",
      "The behavior will change in pandas 3.0. This inplace method will never work because the intermediate object on which we are setting values always behaves as a copy.\n",
      "\n",
      "For example, when doing 'df[col].method(value, inplace=True)', try using 'df.method({col: value}, inplace=True)' or df[col] = df[col].method(value) instead, to perform the operation inplace on the original object.\n",
      "\n",
      "\n",
      "  dataset['Cabin'].fillna('Unknown',inplace= True)\n"
     ]
    }
   ],
   "source": [
    "dataset['Cabin'].fillna('Unknown',inplace= True)\n"
   ]
  },
  {
   "cell_type": "code",
   "execution_count": 15,
   "id": "3a4654ed",
   "metadata": {},
   "outputs": [
    {
     "name": "stdout",
     "output_type": "stream",
     "text": [
      "None\n",
      "PassengerId    0\n",
      "Survived       0\n",
      "Pclass         0\n",
      "Name           0\n",
      "Sex            0\n",
      "Age            0\n",
      "SibSp          0\n",
      "Parch          0\n",
      "Ticket         0\n",
      "Fare           0\n",
      "Cabin          0\n",
      "Embarked       2\n",
      "dtype: int64\n"
     ]
    }
   ],
   "source": [
    "print(dataset.dropna(subset=[\"Age\"],inplace=True))\n",
    "print(dataset.isnull().sum())"
   ]
  },
  {
   "cell_type": "code",
   "execution_count": null,
   "id": "38104286",
   "metadata": {},
   "outputs": [
    {
     "data": {
      "text/html": [
       "<div>\n",
       "<style scoped>\n",
       "    .dataframe tbody tr th:only-of-type {\n",
       "        vertical-align: middle;\n",
       "    }\n",
       "\n",
       "    .dataframe tbody tr th {\n",
       "        vertical-align: top;\n",
       "    }\n",
       "\n",
       "    .dataframe thead th {\n",
       "        text-align: right;\n",
       "    }\n",
       "</style>\n",
       "<table border=\"1\" class=\"dataframe\">\n",
       "  <thead>\n",
       "    <tr style=\"text-align: right;\">\n",
       "      <th></th>\n",
       "      <th>Survived</th>\n",
       "      <th>Pclass</th>\n",
       "      <th>Sex</th>\n",
       "      <th>Age</th>\n",
       "      <th>SibSp</th>\n",
       "      <th>Parch</th>\n",
       "      <th>Fare</th>\n",
       "      <th>Cabin</th>\n",
       "      <th>Embarked</th>\n",
       "    </tr>\n",
       "  </thead>\n",
       "  <tbody>\n",
       "    <tr>\n",
       "      <th>0</th>\n",
       "      <td>0</td>\n",
       "      <td>3</td>\n",
       "      <td>male</td>\n",
       "      <td>22.0</td>\n",
       "      <td>1</td>\n",
       "      <td>0</td>\n",
       "      <td>7.2500</td>\n",
       "      <td>Unknown</td>\n",
       "      <td>S</td>\n",
       "    </tr>\n",
       "    <tr>\n",
       "      <th>1</th>\n",
       "      <td>1</td>\n",
       "      <td>1</td>\n",
       "      <td>female</td>\n",
       "      <td>38.0</td>\n",
       "      <td>1</td>\n",
       "      <td>0</td>\n",
       "      <td>71.2833</td>\n",
       "      <td>C85</td>\n",
       "      <td>C</td>\n",
       "    </tr>\n",
       "    <tr>\n",
       "      <th>2</th>\n",
       "      <td>1</td>\n",
       "      <td>3</td>\n",
       "      <td>female</td>\n",
       "      <td>26.0</td>\n",
       "      <td>0</td>\n",
       "      <td>0</td>\n",
       "      <td>7.9250</td>\n",
       "      <td>Unknown</td>\n",
       "      <td>S</td>\n",
       "    </tr>\n",
       "    <tr>\n",
       "      <th>3</th>\n",
       "      <td>1</td>\n",
       "      <td>1</td>\n",
       "      <td>female</td>\n",
       "      <td>35.0</td>\n",
       "      <td>1</td>\n",
       "      <td>0</td>\n",
       "      <td>53.1000</td>\n",
       "      <td>C123</td>\n",
       "      <td>S</td>\n",
       "    </tr>\n",
       "    <tr>\n",
       "      <th>4</th>\n",
       "      <td>0</td>\n",
       "      <td>3</td>\n",
       "      <td>male</td>\n",
       "      <td>35.0</td>\n",
       "      <td>0</td>\n",
       "      <td>0</td>\n",
       "      <td>8.0500</td>\n",
       "      <td>Unknown</td>\n",
       "      <td>S</td>\n",
       "    </tr>\n",
       "  </tbody>\n",
       "</table>\n",
       "</div>"
      ],
      "text/plain": [
       "   Survived  Pclass     Sex   Age  SibSp  Parch     Fare    Cabin Embarked\n",
       "0         0       3    male  22.0      1      0   7.2500  Unknown        S\n",
       "1         1       1  female  38.0      1      0  71.2833      C85        C\n",
       "2         1       3  female  26.0      0      0   7.9250  Unknown        S\n",
       "3         1       1  female  35.0      1      0  53.1000     C123        S\n",
       "4         0       3    male  35.0      0      0   8.0500  Unknown        S"
      ]
     },
     "execution_count": 17,
     "metadata": {},
     "output_type": "execute_result"
    }
   ],
   "source": [
    "dataset.drop([\"PassengerId\",\"Name\",\"Ticket\"],axis=\"columns\",inplace=True)\n",
    "\n",
    "dataset.head()"
   ]
  },
  {
   "cell_type": "code",
   "execution_count": 18,
   "id": "e37211e1",
   "metadata": {},
   "outputs": [
    {
     "name": "stdout",
     "output_type": "stream",
     "text": [
      "Numerical-Only, Log-Loss (cost): 0.6121682789483441\n"
     ]
    }
   ],
   "source": [
    "from m0c_logistic_regression import train_logistic_regression\n",
    "features = [\"Age\", \"Pclass\", \"SibSp\", \"Parch\", \"Fare\"] \n",
    "loss_numerical_only = train_logistic_regression(dataset, features)\n",
    "print(f\"Numerical-Only, Log-Loss (cost): {loss_numerical_only}\")"
   ]
  },
  {
   "cell_type": "markdown",
   "id": "d0173ffd",
   "metadata": {},
   "source": [
    "this cost =>  0.612167"
   ]
  },
  {
   "cell_type": "code",
   "execution_count": null,
   "id": "0928f993",
   "metadata": {},
   "outputs": [
    {
     "name": "stdout",
     "output_type": "stream",
     "text": [
      "   Survived  Pclass     Sex   Age  SibSp  Parch     Fare    Cabin Embarked  \\\n",
      "0         0       3    male  22.0      1      0   7.2500  Unknown        S   \n",
      "1         1       1  female  38.0      1      0  71.2833      C85        C   \n",
      "2         1       3  female  26.0      0      0   7.9250  Unknown        S   \n",
      "3         1       1  female  35.0      1      0  53.1000     C123        S   \n",
      "4         0       3    male  35.0      0      0   8.0500  Unknown        S   \n",
      "\n",
      "   Isfemale  \n",
      "0         0  \n",
      "1         1  \n",
      "2         1  \n",
      "3         1  \n",
      "4         0  \n",
      "\n",
      "Numerical + Sex, Log-Loss (cost): 0.4707118595966243\n"
     ]
    },
    {
     "name": "stderr",
     "output_type": "stream",
     "text": [
      "/tmp/ipykernel_9539/4193736205.py:1: FutureWarning: Downcasting behavior in `replace` is deprecated and will be removed in a future version. To retain the old behavior, explicitly call `result.infer_objects(copy=False)`. To opt-in to the future behavior, set `pd.set_option('future.no_silent_downcasting', True)`\n",
      "  dataset[\"Isfemale\"] = dataset.Sex.replace({'male':0,'female':1})\n"
     ]
    }
   ],
   "source": [
    "dataset[\"Isfemale\"] = dataset.Sex.replace({'male':0,'female':1})\n",
    "print(dataset.head())\n"
   ]
  },
  {
   "cell_type": "code",
   "execution_count": 22,
   "id": "57de7c76",
   "metadata": {},
   "outputs": [
    {
     "name": "stdout",
     "output_type": "stream",
     "text": [
      "\n",
      "Numerical + Sex, Log-Loss (cost): 0.4707118595966243\n"
     ]
    }
   ],
   "source": [
    "features = [\"Age\", \"Pclass\", \"SibSp\", \"Parch\", \"Fare\", \"Isfemale\"] \n",
    "loss_binary_categoricals = train_logistic_regression(dataset, features)\n",
    "\n",
    "print(f\"\\nNumerical + Sex, Log-Loss (cost): {loss_binary_categoricals}\")"
   ]
  },
  {
   "cell_type": "markdown",
   "id": "cf5cfd50",
   "metadata": {},
   "source": [
    "# One-Hot Encoding"
   ]
  },
  {
   "cell_type": "code",
   "execution_count": 26,
   "id": "dedbd57d",
   "metadata": {},
   "outputs": [
    {
     "name": "stdout",
     "output_type": "stream",
     "text": [
      "Possible values for PClass: [3 1 2]\n",
      "   Survived     Sex   Age  SibSp  Parch     Fare    Cabin Embarked  Isfemale  \\\n",
      "0         0    male  22.0      1      0   7.2500  Unknown        S         0   \n",
      "1         1  female  38.0      1      0  71.2833      C85        C         1   \n",
      "2         1  female  26.0      0      0   7.9250  Unknown        S         1   \n",
      "3         1  female  35.0      1      0  53.1000     C123        S         1   \n",
      "4         0    male  35.0      0      0   8.0500  Unknown        S         0   \n",
      "\n",
      "   Pclass_1  Pclass_2  Pclass_3  Pclass  \n",
      "0     False     False      True       3  \n",
      "1      True     False     False       1  \n",
      "2     False     False      True       3  \n",
      "3      True     False     False       1  \n",
      "4     False     False      True       3  \n"
     ]
    }
   ],
   "source": [
    "# Get all possible categories for the \"PClass\" column\n",
    "print(f\"Possible values for PClass: {dataset['Pclass'].unique()}\")\n",
    "\n",
    "# Use Pandas to One-Hot encode the PClass category\n",
    "dataset_with_one_hot = pd.get_dummies(dataset, columns=[\"Pclass\"], drop_first=False)\n",
    "\n",
    "# Add back in the old Pclass column, for learning purposes\n",
    "dataset_with_one_hot[\"Pclass\"] = dataset.Pclass\n",
    "\n",
    "# Print out the first few rows\n",
    "print(dataset_with_one_hot.head())\n",
    "\n"
   ]
  },
  {
   "cell_type": "code",
   "execution_count": 29,
   "id": "e19fc93d",
   "metadata": {},
   "outputs": [
    {
     "name": "stdout",
     "output_type": "stream",
     "text": [
      "\n",
      "Numerical, Sex, Categorical Pclass, Log-Loss (cost): 0.4717302923736227\n"
     ]
    }
   ],
   "source": [
    "features = [\"Age\", \"SibSp\", \"Parch\", \"Fare\", \"Isfemale\",\n",
    "            \"Pclass_1\", \"Pclass_2\", \"Pclass_3\"]\n",
    "\n",
    "loss_pclass_categorical = train_logistic_regression(dataset_with_one_hot, features)\n",
    "\n",
    "print(f\"\\nNumerical, Sex, Categorical Pclass, Log-Loss (cost): {loss_pclass_categorical}\")"
   ]
  },
  {
   "cell_type": "code",
   "execution_count": 32,
   "id": "df2e8226",
   "metadata": {},
   "outputs": [
    {
     "name": "stdout",
     "output_type": "stream",
     "text": [
      "135 cabins found\n",
      "['Cabin_A10', 'Cabin_A16', 'Cabin_A20', 'Cabin_A23', 'Cabin_A24', 'Cabin_A26', 'Cabin_A31', 'Cabin_A34', 'Cabin_A36', 'Cabin_A5', 'Cabin_A6', 'Cabin_A7', 'Cabin_B101', 'Cabin_B18', 'Cabin_B19', 'Cabin_B20', 'Cabin_B22', 'Cabin_B28', 'Cabin_B3', 'Cabin_B30', 'Cabin_B35', 'Cabin_B37', 'Cabin_B38', 'Cabin_B39', 'Cabin_B4', 'Cabin_B41', 'Cabin_B42', 'Cabin_B49', 'Cabin_B5', 'Cabin_B50', 'Cabin_B51 B53 B55', 'Cabin_B57 B59 B63 B66', 'Cabin_B58 B60', 'Cabin_B69', 'Cabin_B71', 'Cabin_B73', 'Cabin_B77', 'Cabin_B79', 'Cabin_B80', 'Cabin_B82 B84', 'Cabin_B86', 'Cabin_B94', 'Cabin_B96 B98', 'Cabin_C101', 'Cabin_C103', 'Cabin_C104', 'Cabin_C110', 'Cabin_C111', 'Cabin_C118', 'Cabin_C123', 'Cabin_C124', 'Cabin_C125', 'Cabin_C126', 'Cabin_C148', 'Cabin_C2', 'Cabin_C22 C26', 'Cabin_C23 C25 C27', 'Cabin_C30', 'Cabin_C32', 'Cabin_C45', 'Cabin_C46', 'Cabin_C49', 'Cabin_C50', 'Cabin_C52', 'Cabin_C54', 'Cabin_C62 C64', 'Cabin_C65', 'Cabin_C68', 'Cabin_C7', 'Cabin_C70', 'Cabin_C78', 'Cabin_C82', 'Cabin_C83', 'Cabin_C85', 'Cabin_C86', 'Cabin_C87', 'Cabin_C90', 'Cabin_C91', 'Cabin_C92', 'Cabin_C93', 'Cabin_C99', 'Cabin_D', 'Cabin_D10 D12', 'Cabin_D11', 'Cabin_D15', 'Cabin_D17', 'Cabin_D19', 'Cabin_D20', 'Cabin_D26', 'Cabin_D28', 'Cabin_D30', 'Cabin_D33', 'Cabin_D35', 'Cabin_D36', 'Cabin_D37', 'Cabin_D46', 'Cabin_D47', 'Cabin_D48', 'Cabin_D49', 'Cabin_D50', 'Cabin_D56', 'Cabin_D6', 'Cabin_D7', 'Cabin_D9', 'Cabin_E10', 'Cabin_E101', 'Cabin_E12', 'Cabin_E121', 'Cabin_E17', 'Cabin_E24', 'Cabin_E25', 'Cabin_E31', 'Cabin_E33', 'Cabin_E34', 'Cabin_E36', 'Cabin_E38', 'Cabin_E40', 'Cabin_E44', 'Cabin_E46', 'Cabin_E49', 'Cabin_E50', 'Cabin_E58', 'Cabin_E63', 'Cabin_E67', 'Cabin_E68', 'Cabin_E77', 'Cabin_E8', 'Cabin_F G63', 'Cabin_F G73', 'Cabin_F2', 'Cabin_F33', 'Cabin_F4', 'Cabin_G6', 'Cabin_T', 'Cabin_Unknown']\n"
     ]
    }
   ],
   "source": [
    "# Use Pandas to One-Hot encode the Cabin and Pclass categories\n",
    "dataset_with_one_hot = pd.get_dummies(dataset, columns=[\"Pclass\", \"Cabin\"], drop_first=False)\n",
    "\n",
    "# Find cabin column names\n",
    "cabin_column_names = list(c for c in dataset_with_one_hot.columns if c.startswith(\"Cabin_\"))\n",
    "\n",
    "# Print out how many cabins there were\n",
    "print(len(cabin_column_names), \"cabins found\")\n",
    "\n",
    "# Make a list of features\n",
    "features = [\"Age\", \"SibSp\", \"Parch\", \"Fare\", \"Isfemale\",\n",
    "            \"Pclass_1\", \"Pclass_2\", \"Pclass_3\"] + \\\n",
    "            cabin_column_names\n",
    "\n",
    "print(cabin_column_names)\n",
    "\n"
   ]
  },
  {
   "cell_type": "code",
   "execution_count": 34,
   "id": "2ba7c886",
   "metadata": {},
   "outputs": [
    {
     "data": {
      "text/html": [
       "<div>\n",
       "<style scoped>\n",
       "    .dataframe tbody tr th:only-of-type {\n",
       "        vertical-align: middle;\n",
       "    }\n",
       "\n",
       "    .dataframe tbody tr th {\n",
       "        vertical-align: top;\n",
       "    }\n",
       "\n",
       "    .dataframe thead th {\n",
       "        text-align: right;\n",
       "    }\n",
       "</style>\n",
       "<table border=\"1\" class=\"dataframe\">\n",
       "  <thead>\n",
       "    <tr style=\"text-align: right;\">\n",
       "      <th></th>\n",
       "      <th>Survived</th>\n",
       "      <th>Sex</th>\n",
       "      <th>Age</th>\n",
       "      <th>SibSp</th>\n",
       "      <th>Parch</th>\n",
       "      <th>Fare</th>\n",
       "      <th>Embarked</th>\n",
       "      <th>Isfemale</th>\n",
       "      <th>Pclass_1</th>\n",
       "      <th>Pclass_2</th>\n",
       "      <th>...</th>\n",
       "      <th>Cabin_E77</th>\n",
       "      <th>Cabin_E8</th>\n",
       "      <th>Cabin_F G63</th>\n",
       "      <th>Cabin_F G73</th>\n",
       "      <th>Cabin_F2</th>\n",
       "      <th>Cabin_F33</th>\n",
       "      <th>Cabin_F4</th>\n",
       "      <th>Cabin_G6</th>\n",
       "      <th>Cabin_T</th>\n",
       "      <th>Cabin_Unknown</th>\n",
       "    </tr>\n",
       "  </thead>\n",
       "  <tbody>\n",
       "    <tr>\n",
       "      <th>0</th>\n",
       "      <td>0</td>\n",
       "      <td>male</td>\n",
       "      <td>22.0</td>\n",
       "      <td>1</td>\n",
       "      <td>0</td>\n",
       "      <td>7.2500</td>\n",
       "      <td>S</td>\n",
       "      <td>0</td>\n",
       "      <td>False</td>\n",
       "      <td>False</td>\n",
       "      <td>...</td>\n",
       "      <td>False</td>\n",
       "      <td>False</td>\n",
       "      <td>False</td>\n",
       "      <td>False</td>\n",
       "      <td>False</td>\n",
       "      <td>False</td>\n",
       "      <td>False</td>\n",
       "      <td>False</td>\n",
       "      <td>False</td>\n",
       "      <td>True</td>\n",
       "    </tr>\n",
       "    <tr>\n",
       "      <th>1</th>\n",
       "      <td>1</td>\n",
       "      <td>female</td>\n",
       "      <td>38.0</td>\n",
       "      <td>1</td>\n",
       "      <td>0</td>\n",
       "      <td>71.2833</td>\n",
       "      <td>C</td>\n",
       "      <td>1</td>\n",
       "      <td>True</td>\n",
       "      <td>False</td>\n",
       "      <td>...</td>\n",
       "      <td>False</td>\n",
       "      <td>False</td>\n",
       "      <td>False</td>\n",
       "      <td>False</td>\n",
       "      <td>False</td>\n",
       "      <td>False</td>\n",
       "      <td>False</td>\n",
       "      <td>False</td>\n",
       "      <td>False</td>\n",
       "      <td>False</td>\n",
       "    </tr>\n",
       "    <tr>\n",
       "      <th>2</th>\n",
       "      <td>1</td>\n",
       "      <td>female</td>\n",
       "      <td>26.0</td>\n",
       "      <td>0</td>\n",
       "      <td>0</td>\n",
       "      <td>7.9250</td>\n",
       "      <td>S</td>\n",
       "      <td>1</td>\n",
       "      <td>False</td>\n",
       "      <td>False</td>\n",
       "      <td>...</td>\n",
       "      <td>False</td>\n",
       "      <td>False</td>\n",
       "      <td>False</td>\n",
       "      <td>False</td>\n",
       "      <td>False</td>\n",
       "      <td>False</td>\n",
       "      <td>False</td>\n",
       "      <td>False</td>\n",
       "      <td>False</td>\n",
       "      <td>True</td>\n",
       "    </tr>\n",
       "  </tbody>\n",
       "</table>\n",
       "<p>3 rows × 146 columns</p>\n",
       "</div>"
      ],
      "text/plain": [
       "   Survived     Sex   Age  SibSp  Parch     Fare Embarked  Isfemale  Pclass_1  \\\n",
       "0         0    male  22.0      1      0   7.2500        S         0     False   \n",
       "1         1  female  38.0      1      0  71.2833        C         1      True   \n",
       "2         1  female  26.0      0      0   7.9250        S         1     False   \n",
       "\n",
       "   Pclass_2  ...  Cabin_E77  Cabin_E8  Cabin_F G63  Cabin_F G73  Cabin_F2  \\\n",
       "0     False  ...      False     False        False        False     False   \n",
       "1     False  ...      False     False        False        False     False   \n",
       "2     False  ...      False     False        False        False     False   \n",
       "\n",
       "   Cabin_F33  Cabin_F4  Cabin_G6  Cabin_T  Cabin_Unknown  \n",
       "0      False     False     False    False           True  \n",
       "1      False     False     False    False          False  \n",
       "2      False     False     False    False           True  \n",
       "\n",
       "[3 rows x 146 columns]"
      ]
     },
     "execution_count": 34,
     "metadata": {},
     "output_type": "execute_result"
    }
   ],
   "source": [
    "dataset_with_one_hot.head(3)"
   ]
  },
  {
   "cell_type": "code",
   "execution_count": 33,
   "id": "f36bccb9",
   "metadata": {},
   "outputs": [
    {
     "name": "stdout",
     "output_type": "stream",
     "text": [
      "\n",
      "Numerical, Sex, Categorical Pclass, Cabin, Log-Loss (cost): 0.4600048688202762\n"
     ]
    }
   ],
   "source": [
    "# Run the model and print the result\n",
    "loss_cabin_categorical = train_logistic_regression(dataset_with_one_hot, features)\n",
    "\n",
    "print(f\"\\nNumerical, Sex, Categorical Pclass, Cabin, Log-Loss (cost): {loss_cabin_categorical}\")"
   ]
  },
  {
   "cell_type": "code",
   "execution_count": 40,
   "id": "8f114cce",
   "metadata": {},
   "outputs": [
    {
     "name": "stdout",
     "output_type": "stream",
     "text": [
      "Decks:  ['A', 'B', 'C', 'D', 'E', 'F', 'G', 'T', 'U']\n",
      "     Survived     Sex   Age  SibSp  Parch     Fare    Cabin Embarked  \\\n",
      "0           0    male  22.0      1      0   7.2500  Unknown        S   \n",
      "1           1  female  38.0      1      0  71.2833      C85        C   \n",
      "2           1  female  26.0      0      0   7.9250  Unknown        S   \n",
      "3           1  female  35.0      1      0  53.1000     C123        S   \n",
      "4           0    male  35.0      0      0   8.0500  Unknown        S   \n",
      "..        ...     ...   ...    ...    ...      ...      ...      ...   \n",
      "885         0  female  39.0      0      5  29.1250  Unknown        Q   \n",
      "886         0    male  27.0      0      0  13.0000  Unknown        S   \n",
      "887         1  female  19.0      0      0  30.0000      B42        S   \n",
      "889         1    male  26.0      0      0  30.0000     C148        C   \n",
      "890         0    male  32.0      0      0   7.7500  Unknown        Q   \n",
      "\n",
      "     Isfemale  Pclass_1  ...  Pclass_3  Deck_A  Deck_B  Deck_C  Deck_D  \\\n",
      "0           0     False  ...      True   False   False   False   False   \n",
      "1           1      True  ...     False   False   False    True   False   \n",
      "2           1     False  ...      True   False   False   False   False   \n",
      "3           1      True  ...     False   False   False    True   False   \n",
      "4           0     False  ...      True   False   False   False   False   \n",
      "..        ...       ...  ...       ...     ...     ...     ...     ...   \n",
      "885         1     False  ...      True   False   False   False   False   \n",
      "886         0     False  ...     False   False   False   False   False   \n",
      "887         1      True  ...     False   False    True   False   False   \n",
      "889         0      True  ...     False   False   False    True   False   \n",
      "890         0     False  ...      True   False   False   False   False   \n",
      "\n",
      "     Deck_E  Deck_F  Deck_G  Deck_T  Deck_U  \n",
      "0     False   False   False   False    True  \n",
      "1     False   False   False   False   False  \n",
      "2     False   False   False   False    True  \n",
      "3     False   False   False   False   False  \n",
      "4     False   False   False   False    True  \n",
      "..      ...     ...     ...     ...     ...  \n",
      "885   False   False   False   False    True  \n",
      "886   False   False   False   False    True  \n",
      "887   False   False   False   False   False  \n",
      "889   False   False   False   False   False  \n",
      "890   False   False   False   False    True  \n",
      "\n",
      "[714 rows x 21 columns]\n"
     ]
    }
   ],
   "source": [
    "# We have cabin names, like A31, G45. The letter refers to the deck that\n",
    "# the cabin was on. Extract just the deck and save it to a column. \n",
    "dataset[\"Deck\"] = [c[0] for c in dataset.Cabin]\n",
    "\n",
    "print(\"Decks: \", sorted(dataset.Deck.unique()))\n",
    "\n",
    "# Create one-hot vectors for:\n",
    "# Pclass - the class of ticket. (This could be treated as ordinal or categorical)\n",
    "# Deck - the deck that the cabin was on\n",
    "dataset_with_one_hot = pd.get_dummies(dataset, columns=[\"Pclass\", \"Deck\"], drop_first=False)\n",
    "print(dataset_with_one_hot)\n",
    "# Find the deck names\n",
    "deck_of_cabin_column_names = list(c for c in dataset_with_one_hot.columns if c.startswith(\"Deck_\"))\n",
    " \n",
    "features = [\"Age\", \"Isfemale\", \"SibSp\", \"Parch\", \"Fare\", \n",
    "            \"Pclass_1\", \"Pclass_2\", \"Pclass_3\",\n",
    "            \"Deck_A\", \"Deck_B\", \"Deck_C\", \"Deck_D\", \n",
    "            \"Deck_E\", \"Deck_F\", \"Deck_G\", \"Deck_U\", \"Deck_T\"]\n",
    "\n"
   ]
  },
  {
   "cell_type": "code",
   "execution_count": 39,
   "id": "8bea4714",
   "metadata": {},
   "outputs": [
    {
     "name": "stdout",
     "output_type": "stream",
     "text": [
      "\n",
      "Simplifying Cabin Into Deck, Log-Loss (cost): 0.4588927791855666\n"
     ]
    }
   ],
   "source": [
    "loss_deck = train_logistic_regression(dataset_with_one_hot, features)\n",
    "\n",
    "print(f\"\\nSimplifying Cabin Into Deck, Log-Loss (cost): {loss_deck}\")"
   ]
  },
  {
   "cell_type": "code",
   "execution_count": 38,
   "id": "9233cff2",
   "metadata": {},
   "outputs": [
    {
     "data": {
      "text/html": [
       "<div>\n",
       "<style scoped>\n",
       "    .dataframe tbody tr th:only-of-type {\n",
       "        vertical-align: middle;\n",
       "    }\n",
       "\n",
       "    .dataframe tbody tr th {\n",
       "        vertical-align: top;\n",
       "    }\n",
       "\n",
       "    .dataframe thead th {\n",
       "        text-align: right;\n",
       "    }\n",
       "</style>\n",
       "<table border=\"1\" class=\"dataframe\">\n",
       "  <thead>\n",
       "    <tr style=\"text-align: right;\">\n",
       "      <th></th>\n",
       "      <th>Dataset</th>\n",
       "      <th>Log-Loss (Low is better)</th>\n",
       "    </tr>\n",
       "  </thead>\n",
       "  <tbody>\n",
       "    <tr>\n",
       "      <th>0</th>\n",
       "      <td>Numeric Features Only</td>\n",
       "      <td>0.612168</td>\n",
       "    </tr>\n",
       "    <tr>\n",
       "      <th>1</th>\n",
       "      <td>Adding Sex as Binary</td>\n",
       "      <td>0.470712</td>\n",
       "    </tr>\n",
       "    <tr>\n",
       "      <th>2</th>\n",
       "      <td>Treating Pclass as Categorical</td>\n",
       "      <td>0.471730</td>\n",
       "    </tr>\n",
       "    <tr>\n",
       "      <th>3</th>\n",
       "      <td>Using Cabin as Categorical</td>\n",
       "      <td>0.460005</td>\n",
       "    </tr>\n",
       "    <tr>\n",
       "      <th>4</th>\n",
       "      <td>Using Deck rather than Cabin</td>\n",
       "      <td>0.458893</td>\n",
       "    </tr>\n",
       "  </tbody>\n",
       "</table>\n",
       "</div>"
      ],
      "text/plain": [
       "                          Dataset  Log-Loss (Low is better)\n",
       "0           Numeric Features Only                  0.612168\n",
       "1            Adding Sex as Binary                  0.470712\n",
       "2  Treating Pclass as Categorical                  0.471730\n",
       "3      Using Cabin as Categorical                  0.460005\n",
       "4    Using Deck rather than Cabin                  0.458893"
      ]
     },
     "execution_count": 38,
     "metadata": {},
     "output_type": "execute_result"
    }
   ],
   "source": [
    "# Use a dataframe to create a comparison table of metrics\n",
    "# Copy metrics from previous Unit\n",
    "\n",
    "l =[[\"Numeric Features Only\", loss_numerical_only],\n",
    "    [\"Adding Sex as Binary\", loss_binary_categoricals],\n",
    "    [\"Treating Pclass as Categorical\", loss_pclass_categorical],\n",
    "    [\"Using Cabin as Categorical\", loss_cabin_categorical],\n",
    "    [\"Using Deck rather than Cabin\", loss_deck]]\n",
    "\n",
    "pd.DataFrame(l, columns=[\"Dataset\", \"Log-Loss (Low is better)\"])"
   ]
  }
 ],
 "metadata": {
  "kernelspec": {
   "display_name": "myenv0",
   "language": "python",
   "name": "python3"
  },
  "language_info": {
   "codemirror_mode": {
    "name": "ipython",
    "version": 3
   },
   "file_extension": ".py",
   "mimetype": "text/x-python",
   "name": "python",
   "nbconvert_exporter": "python",
   "pygments_lexer": "ipython3",
   "version": "3.13.2"
  }
 },
 "nbformat": 4,
 "nbformat_minor": 5
}
