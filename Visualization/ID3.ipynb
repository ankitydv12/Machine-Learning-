{
 "cells": [
  {
   "cell_type": "code",
   "execution_count": 1,
   "id": "105de9bc",
   "metadata": {},
   "outputs": [],
   "source": [
    "import numpy as np\n",
    "from collections import Counter"
   ]
  },
  {
   "cell_type": "code",
   "execution_count": 2,
   "id": "848828b8",
   "metadata": {},
   "outputs": [],
   "source": [
    "\n",
    "# Step 1: Entropy\n",
    "def entropy(y):\n",
    "    counter = Counter(y)\n",
    "    total = len(y)\n",
    "    ent = 0.0\n",
    "    for count in counter.values():\n",
    "        p = count / total\n",
    "        ent -= p * np.log2(p)\n",
    "    return ent"
   ]
  },
  {
   "cell_type": "code",
   "execution_count": 3,
   "id": "a2be0053",
   "metadata": {},
   "outputs": [],
   "source": [
    "# Step 2: Information Gain\n",
    "def information_gain(X_column, y):\n",
    "    parent_entropy = entropy(y)\n",
    "    values, counts = np.unique(X_column, return_counts=True)\n",
    "    \n",
    "    weighted_entropy = 0.0\n",
    "    for val, count in zip(values, counts):\n",
    "        subset_y = y[X_column == val]\n",
    "        weighted_entropy += (count / len(X_column)) * entropy(subset_y)\n",
    "    \n",
    "    return parent_entropy - weighted_entropy"
   ]
  },
  {
   "cell_type": "code",
   "execution_count": 4,
   "id": "3379e059",
   "metadata": {},
   "outputs": [],
   "source": [
    "# Step 3: ID3 Recursive Tree\n",
    "class Node:\n",
    "    def __init__(self, feature=None, value=None, left=None, right=None, *, label=None):\n",
    "        self.feature = feature\n",
    "        self.value = value\n",
    "        self.left = left\n",
    "        self.right = right\n",
    "        self.label = label"
   ]
  },
  {
   "cell_type": "code",
   "execution_count": 5,
   "id": "8024a9a7",
   "metadata": {},
   "outputs": [],
   "source": [
    "def id3(X, y, features):\n",
    "    # If pure, return leaf node\n",
    "    if len(set(y)) == 1:\n",
    "        return Node(label=y[0])\n",
    "\n",
    "    # If no features left, return majority\n",
    "    if len(features) == 0:\n",
    "        most_common_label = Counter(y).most_common(1)[0][0]\n",
    "        return Node(label=most_common_label)\n",
    "\n",
    "    # Find best feature to split\n",
    "    gains = [information_gain(X[:, i], y) for i in features]\n",
    "    best_idx = features[np.argmax(gains)]\n",
    "    \n",
    "    node = Node(feature=best_idx)\n",
    "\n",
    "    # For each value of the best feature\n",
    "    feature_values = np.unique(X[:, best_idx])\n",
    "    if len(feature_values) != 2:\n",
    "        raise Exception(\"Simple ID3 assumes binary features for simplicity.\")\n",
    "    \n",
    "    left_indices = X[:, best_idx] == feature_values[0]\n",
    "    right_indices = X[:, best_idx] == feature_values[1]\n",
    "\n",
    "    left_subtree = id3(X[left_indices], y[left_indices], [f for f in features if f != best_idx])\n",
    "    right_subtree = id3(X[right_indices], y[right_indices], [f for f in features if f != best_idx])\n",
    "\n",
    "    node.value = feature_values[0]  # Value for left child\n",
    "    node.left = left_subtree\n",
    "    node.right = right_subtree\n",
    "\n",
    "    return node"
   ]
  },
  {
   "cell_type": "code",
   "execution_count": 6,
   "id": "03b6252f",
   "metadata": {},
   "outputs": [],
   "source": [
    "\n",
    "# Step 4: Prediction\n",
    "def predict(x, tree):\n",
    "    while tree.label is None:\n",
    "        if x[tree.feature] == tree.value:\n",
    "            tree = tree.left\n",
    "        else:\n",
    "            tree = tree.right\n",
    "    return tree.label\n"
   ]
  },
  {
   "cell_type": "code",
   "execution_count": 8,
   "id": "e91df48e",
   "metadata": {},
   "outputs": [
    {
     "name": "stdout",
     "output_type": "stream",
     "text": [
      "yes\n",
      "no\n",
      "yes\n",
      "no\n"
     ]
    }
   ],
   "source": [
    "# Small toy dataset\n",
    "X = np.array([\n",
    "    [0, 1],\n",
    "    [0, 0],\n",
    "    [1, 1],\n",
    "    [1, 0],\n",
    "])\n",
    "y = np.array(['yes', 'no', 'yes', 'no'])\n",
    "\n",
    "features = list(range(X.shape[1]))\n",
    "\n",
    "tree = id3(X, y, features)\n",
    "\n",
    "# Predict\n",
    "for sample in X:\n",
    "    print(predict(sample, tree))\n"
   ]
  }
 ],
 "metadata": {
  "kernelspec": {
   "display_name": "myenv0",
   "language": "python",
   "name": "python3"
  },
  "language_info": {
   "codemirror_mode": {
    "name": "ipython",
    "version": 3
   },
   "file_extension": ".py",
   "mimetype": "text/x-python",
   "name": "python",
   "nbconvert_exporter": "python",
   "pygments_lexer": "ipython3",
   "version": "3.13.2"
  }
 },
 "nbformat": 4,
 "nbformat_minor": 5
}
